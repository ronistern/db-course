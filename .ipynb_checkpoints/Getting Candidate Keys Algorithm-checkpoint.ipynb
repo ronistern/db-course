{
 "cells": [
  {
   "cell_type": "markdown",
   "metadata": {},
   "source": [
    "## From functional dependencies to candidate keys"
   ]
  },
  {
   "cell_type": "code",
   "execution_count": 1,
   "metadata": {
    "collapsed": true
   },
   "outputs": [],
   "source": [
    "# Table fields\n",
    "R = \"A,B,C,D,E,G,H\"\n",
    "\n",
    "# Functional dependencies\n",
    "F = \"AB->C,C->D,D->B,A->E,EH->G\"\n"
   ]
  },
  {
   "cell_type": "code",
   "execution_count": 2,
   "metadata": {
    "collapsed": true
   },
   "outputs": [],
   "source": [
    "''' Parse the string with the functional dependecies to a dictionary of functional dependencies (''rules'')'''\n",
    "def to_rules(F):\n",
    "    rules = dict()\n",
    "    rules_str = F.split(\",\")\n",
    "    for rule_str in rules_str:\n",
    "        parts = rule_str.split(\"->\")\n",
    "        key= frozenset(parts[0])\n",
    "        if rules.has_key(key):\n",
    "            rules[key].update(set(parts[1]))\n",
    "        else:\n",
    "            rules[key]=set(parts[1])\n",
    "    return rules"
   ]
  },
  {
   "cell_type": "code",
   "execution_count": 3,
   "metadata": {},
   "outputs": [
    {
     "data": {
      "text/plain": [
       "{frozenset({'E', 'H'}): {'G'},\n",
       " frozenset({'D'}): {'B'},\n",
       " frozenset({'C'}): {'D'},\n",
       " frozenset({'A'}): {'E'},\n",
       " frozenset({'A', 'B'}): {'C'}}"
      ]
     },
     "execution_count": 3,
     "metadata": {},
     "output_type": "execute_result"
    }
   ],
   "source": [
    "# Print the rules we get from F (this is just for clarity)\n",
    "to_rules(F)"
   ]
  },
  {
   "cell_type": "code",
   "execution_count": 4,
   "metadata": {},
   "outputs": [
    {
     "data": {
      "text/plain": [
       "({'A', 'H'}, {'B', 'C', 'D', 'E'}, {'G'})"
      ]
     },
     "execution_count": 4,
     "metadata": {},
     "output_type": "execute_result"
    }
   ],
   "source": [
    "''' This is some easy preprocessing of the rules, to identify which fiels must be in every key (L), \n",
    "which fields should not be in any key (R), and which might be in some keys (M)'''\n",
    "def preprocessing(fields,rules):\n",
    "    L=set()\n",
    "    M=set()\n",
    "    R=set()\n",
    "    for field in fields:\n",
    "        in_left = False\n",
    "        in_right = False\n",
    "        for key in rules:\n",
    "            if field in key:\n",
    "                in_left=True\n",
    "            \n",
    "            if field in rules[key]:\n",
    "                in_right=True\n",
    "        \n",
    "        if in_left and in_right:\n",
    "            M.update(field)\n",
    "        elif in_left:\n",
    "            L.update(field)\n",
    "        elif in_right:\n",
    "            R.update(field)\n",
    "        else: # Not in any rule. Must be in key\n",
    "            L.update(field)\n",
    "    return (L,M,R)\n",
    "\n",
    "preprocessing(set(R.split(\",\")),to_rules(F))\n",
    "        "
   ]
  },
  {
   "cell_type": "code",
   "execution_count": 5,
   "metadata": {
    "collapsed": true
   },
   "outputs": [],
   "source": [
    "''' Helper function. Checkes if the candidate is a subset of the candidate keys we already found'''\n",
    "def can_prune(candidate, candidate_keys):\n",
    "    for key in candidate_keys:\n",
    "        if key.issubset(candidate):\n",
    "            return True\n",
    "    return False\n",
    "\n",
    "''' Check if a given candidate is a key '''\n",
    "def is_key(candidate, fields, rules):\n",
    "    dependents = set()\n",
    "    dependents.update(candidate)\n",
    "    new_dependents=True\n",
    "    while len(fields.difference(dependents))>0:\n",
    "        new_dependents=False\n",
    "        for key in rules.keys():\n",
    "            if key.issubset(dependents): # Rule can be applied\n",
    "                if len(rules[key].difference(dependents))>0:\n",
    "                    new_dependents=True\n",
    "                    dependents.update(rules[key])\n",
    "        if new_dependents is False:\n",
    "            return False\n",
    "    return True\n",
    "        \n",
    "''' The main function: gets the fields and the rules, and outputs the candidate keys '''\n",
    "def get_candidate_keys(fields, rules):\n",
    "    (in_key,maybe_in_key,not_in_key) = preprocessing(fields,rules)\n",
    "    \n",
    "    candidate_keys = set()\n",
    "    openlist = list()\n",
    "    openlist.append(frozenset(in_key))\n",
    "\n",
    "\n",
    "    while len(openlist)>0:\n",
    "        candidate = openlist.pop(0) # Order is important to maintain a breadth-first order on cardinality\n",
    "\n",
    "        # Can prune?\n",
    "        if can_prune(candidate, candidate_keys):\n",
    "            continue\n",
    "               \n",
    "        # Is key?\n",
    "        if is_key(candidate,fields, rules):            \n",
    "            candidate_keys.add(candidate)\n",
    "        else:\n",
    "            # Add children\n",
    "            for field in maybe_in_key.difference(candidate):\n",
    "                new_candidate = set()\n",
    "                new_candidate.add(field)\n",
    "                new_candidate.update(candidate)\n",
    "                if can_prune(new_candidate, candidate_keys)==False:\n",
    "                    openlist.append(frozenset(new_candidate))\n",
    "    return candidate_keys"
   ]
  },
  {
   "cell_type": "code",
   "execution_count": 6,
   "metadata": {},
   "outputs": [
    {
     "data": {
      "text/plain": [
       "{frozenset({'A', 'C', 'H'}),\n",
       " frozenset({'A', 'D', 'H'}),\n",
       " frozenset({'A', 'B', 'H'})}"
      ]
     },
     "execution_count": 6,
     "metadata": {},
     "output_type": "execute_result"
    }
   ],
   "source": [
    "fields = set(R.split(\",\"))\n",
    "rules = to_rules(F)\n",
    "get_candidate_keys(fields, rules)"
   ]
  }
 ],
 "metadata": {
  "kernelspec": {
   "display_name": "Python 2",
   "language": "python",
   "name": "python2"
  },
  "language_info": {
   "codemirror_mode": {
    "name": "ipython",
    "version": 2
   },
   "file_extension": ".py",
   "mimetype": "text/x-python",
   "name": "python",
   "nbconvert_exporter": "python",
   "pygments_lexer": "ipython2",
   "version": "2.7.14"
  }
 },
 "nbformat": 4,
 "nbformat_minor": 2
}
